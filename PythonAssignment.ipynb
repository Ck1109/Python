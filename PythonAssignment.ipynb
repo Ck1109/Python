{
 "cells": [
  {
   "cell_type": "markdown",
   "metadata": {},
   "source": [
    "1. Use For Loop & Get Data Three Times\n",
    "\n",
    "    Enter Name    \n",
    "    Enter Days  \n",
    "    Ensure Days is Int / Float  \n",
    "    Ensure Days between 1 & 31   \n",
    "    Compute Rate  \n",
    "    when Days between 28 & 31 ... Rate = 150  \n",
    "    when Days between 25 & 27 ... Rate = 125  \n",
    "    when Days between 20 & 24 ... Rate = 100  \n",
    "    otherwise                 ... Rate =  50   \n",
    "    Print Rate  \n",
    "    Compute Wage (Dyas * Rate)  \n",
    "    Print \"Wages Of <Name> are <Wage>\"  "
   ]
  },
  {
   "cell_type": "code",
   "execution_count": null,
   "metadata": {},
   "outputs": [],
   "source": [
    "def input1():\n",
    "        \n",
    "    try:\n",
    "        Day=int(input(\"Enter Days:\"))\n",
    "        if Day in range(1,32):\n",
    "            \n",
    "                         \n",
    "            if Day in range(28,32):\n",
    "                Rate=150              \n",
    "            elif Day in range(25,28):\n",
    "                Rate=125             \n",
    "            elif Day in range(20,25):\n",
    "                Rate=100            \n",
    "            else:\n",
    "                Rate=50\n",
    "           \n",
    "            wage=Rate*Day\n",
    "            return Rate*Day\n",
    "        \n",
    "        else:\n",
    "            print(\"Input cannot exceed the range of 1 to 31!!!!\")\n",
    "            return(input1())\n",
    "    except(ValueError):\n",
    "        print(\"Invalid input!!!!\")\n",
    "        return(input1())\n",
    "                                  \n",
    "for i in range(1,4):\n",
    "    Name=input(\"Enter Name:\")\n",
    "    Wage=input1()\n",
    "    print(\"Wages Of \"+Name+\" is :\",Wage )\n",
    "\n",
    "    \n"
   ]
  },
  {
   "cell_type": "markdown",
   "metadata": {},
   "source": [
    "7. Use While Loop & Get Data Till Name = 'Blank'  \n",
    "    Enter Name  \n",
    "    Enter Days  \n",
    "    Ensure Days is Int / Float \n",
    "    Ensure Days between 1 & 31 \n",
    "    Compute Rate  \n",
    "    when Days between 28 & 31 ... Rate = 150  \n",
    "    when Days between 25 & 27 ... Rate = 125  \n",
    "    when Days between 20 & 24 ... Rate = 100  \n",
    "    otherwise                 ... Rate =  50   \n",
    "    Print Rate \n",
    "    Compute Wage (Dyas * Rate) \n",
    "       Print \"Wages Of <Name> are <Wage>\" "
   ]
  },
  {
   "cell_type": "code",
   "execution_count": null,
   "metadata": {},
   "outputs": [
    {
     "name": "stdout",
     "output_type": "stream",
     "text": [
      "Enter Name:ck1\n",
      "Enter Days:44\n",
      "Input cannot exceed the range of 1 to 31!!!!\n",
      "Enter Days:22\n",
      "Rate: 100\n",
      "Wages Of ck1 is : 2200\n"
     ]
    }
   ],
   "source": [
    "def input1():\n",
    "        \n",
    "    try:\n",
    "        Day=int(input(\"Enter Days:\"))\n",
    "        if Day in range(1,32):\n",
    "            \n",
    "                         \n",
    "            if Day in range(28,32):\n",
    "                Rate=150              \n",
    "            elif Day in range(25,28):\n",
    "                Rate=125             \n",
    "            elif Day in range(20,25):\n",
    "                Rate=100            \n",
    "            else:\n",
    "                Rate=50\n",
    "           \n",
    "            wage=Rate*Day\n",
    "            print(\"Rate:\",Rate)\n",
    "            return Rate*Day\n",
    "        \n",
    "        else:\n",
    "            print(\"Input cannot exceed the range of 1 to 31!!!!\")\n",
    "            return(input1())\n",
    "    except(ValueError):\n",
    "        print(\"Invalid input!!!!\")\n",
    "        return(input1())\n",
    "                                  \n",
    "while True:\n",
    "    \n",
    "    Name=input(\"Enter Name:\")\n",
    "    if(Name==\"\"):\n",
    "        print(\"Thank u!!!!!!!!!!\")\n",
    "        break\n",
    "    Wage=input1()\n",
    "    print(\"Wages Of \"+Name+\" is :\",Wage )\n",
    "\n",
    "    \n"
   ]
  },
  {
   "cell_type": "code",
   "execution_count": null,
   "metadata": {},
   "outputs": [],
   "source": []
  }
 ],
 "metadata": {
  "kernelspec": {
   "display_name": "Python 3",
   "language": "python",
   "name": "python3"
  },
  "language_info": {
   "codemirror_mode": {
    "name": "ipython",
    "version": 3
   },
   "file_extension": ".py",
   "mimetype": "text/x-python",
   "name": "python",
   "nbconvert_exporter": "python",
   "pygments_lexer": "ipython3",
   "version": "3.7.6"
  }
 },
 "nbformat": 4,
 "nbformat_minor": 4
}
